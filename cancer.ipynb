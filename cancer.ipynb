{
 "cells": [
  {
   "cell_type": "code",
   "execution_count": null,
   "metadata": {},
   "outputs": [],
   "source": [
    "%matplotlib inline"
   ]
  },
  {
   "cell_type": "markdown",
   "metadata": {},
   "source": [
    "# Tarea 6: Reducción de Dimensiones: Datos de tejido canceroso\n",
    "\n",
    "Tecnológico de Costa Rica<br/>\n",
    "Aprendizaje Automático <br/>\n",
    "\n",
    "\n",
    "Cuaderno base para realizar la sección de la tarea 6 relacionada con la identificación de tejido canceroso."
   ]
  },
  {
   "cell_type": "code",
   "execution_count": null,
   "metadata": {},
   "outputs": [],
   "source": [
    "import numpy as np\n",
    "import matplotlib.pyplot as plt\n",
    "from scipy.stats import norm"
   ]
  },
  {
   "cell_type": "markdown",
   "metadata": {},
   "source": [
    "## Cargar datos de tejido canceroso\n",
    "\n",
    "Los datos quedarán almacenados en X y las etiquetas en y"
   ]
  },
  {
   "cell_type": "code",
   "execution_count": null,
   "metadata": {},
   "outputs": [],
   "source": [
    "archivo_csv = 'cancer.csv' \n",
    "\n",
    "col_label = 1 ## Columna en el CSV con las etiquetas 'B'enigno o 'M'aligno\n",
    "col_feats = 2 ## Columna en el CSV a partir de la cual se encuentran las características\n",
    "\n",
    "horizontal=12  ## Tamaño de las figuras\n",
    "figsize=(horizontal,horizontal/(16/9))"
   ]
  },
  {
   "cell_type": "markdown",
   "metadata": {},
   "source": [
    "Cargar todos los datos en archivo csv"
   ]
  },
  {
   "cell_type": "code",
   "execution_count": null,
   "metadata": {},
   "outputs": [],
   "source": [
    "## Es necesario manejar manualmente la conversión del caracter en la 1era columna a número\n",
    "converters={}\n",
    "for i in range(32):\n",
    "    converters[i] = lambda x : float(x)\n",
    "converters[col_label] =  lambda x : 1.0 if (x==b'M') else 0.0\n",
    "\n",
    "data = np.genfromtxt(archivo_csv, delimiter=',',skip_header=1,converters=converters)\n",
    "print(\"Datos completos en matriz {0} x {1}\".format(data.shape[0],data.shape[1]))"
   ]
  },
  {
   "cell_type": "code",
   "execution_count": null,
   "metadata": {
    "scrolled": true
   },
   "outputs": [],
   "source": [
    "# La columna col_labels tiene las etiquetas\n",
    "y=data[:,col_label].ravel()\n",
    "print(\"Label shape:\",y.shape)\n",
    "\n",
    "# La columna col_grupos tiene los grupos\n",
    "X=data[:,col_feats:32]\n",
    "print(\"Data shape :\",X.shape)\n"
   ]
  },
  {
   "cell_type": "markdown",
   "metadata": {},
   "source": [
    "### Normalización de los datos"
   ]
  },
  {
   "cell_type": "code",
   "execution_count": null,
   "metadata": {},
   "outputs": [],
   "source": [
    "## Por hacer"
   ]
  },
  {
   "cell_type": "markdown",
   "metadata": {},
   "source": [
    "### Métodos de reducción de dimensiones:"
   ]
  },
  {
   "cell_type": "code",
   "execution_count": null,
   "metadata": {},
   "outputs": [],
   "source": [
    "## Por hacer"
   ]
  },
  {
   "cell_type": "markdown",
   "metadata": {},
   "source": [
    "### Aglomeración "
   ]
  },
  {
   "cell_type": "code",
   "execution_count": null,
   "metadata": {
    "scrolled": false
   },
   "outputs": [],
   "source": [
    "## Por hacer"
   ]
  }
 ],
 "metadata": {
  "kernelspec": {
   "display_name": "Python 3 (ipykernel)",
   "language": "python",
   "name": "python3"
  },
  "language_info": {
   "codemirror_mode": {
    "name": "ipython",
    "version": 3
   },
   "file_extension": ".py",
   "mimetype": "text/x-python",
   "name": "python",
   "nbconvert_exporter": "python",
   "pygments_lexer": "ipython3",
   "version": "3.9.16"
  }
 },
 "nbformat": 4,
 "nbformat_minor": 4
}
