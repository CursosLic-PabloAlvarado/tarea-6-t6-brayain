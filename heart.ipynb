{
 "cells": [
  {
   "cell_type": "code",
   "execution_count": null,
   "metadata": {},
   "outputs": [],
   "source": [
    "%matplotlib inline"
   ]
  },
  {
   "cell_type": "markdown",
   "metadata": {},
   "source": [
    "# Tarea 6: Reducción de Dimensiones: caso de insuficiencia cardiaca \n",
    "\n",
    "Tecnológico de Costa Rica<br/>\n",
    "Aprendizaje Automático <br/>\n",
    "\n",
    "\n",
    "Cuaderno base para realizar la tarea 6, en la que se usará la reducción de dimensiones para visualizar la estructura de datos en espacios de muchas dimensiones.\n"
   ]
  },
  {
   "cell_type": "code",
   "execution_count": null,
   "metadata": {},
   "outputs": [],
   "source": [
    "import numpy as np\n",
    "import matplotlib.pyplot as plt\n",
    "from scipy.stats import norm\n",
    "from sklearn.preprocessing import OneHotEncoder"
   ]
  },
  {
   "cell_type": "markdown",
   "metadata": {},
   "source": [
    "## Cargar datos de insuficiencia cardiaca\n",
    "\n",
    "Los datos quedarán almacenados en X y las etiquetas en y\n",
    "\n",
    "Los datos originales tienen varias columnas categóricas, que requieren ser \n",
    "codificadas one-hot para que tenga sentido.\n",
    "\n",
    "Cargamos entonces primero los datos crudos, convirtiendo esas columnas a números,\n",
    "y posteriormente "
   ]
  },
  {
   "cell_type": "code",
   "execution_count": null,
   "metadata": {},
   "outputs": [],
   "source": [
    "archivo_csv = 'heart.csv' \n",
    "\n",
    "## Es necesario manejar manualmente la conversión de varias columnas categóricas\n",
    "converters={}\n",
    "for i in range(12):\n",
    "    converters[i] = lambda x : float(x)\n",
    "    \n",
    "converters[1] =  lambda x : 1.0 if (x==b'F') else 0.0\n",
    "\n",
    "# TA: Typical Angina, ATA: Atypical Angina, NAP: Non-Anginal Pain, ASY: Asymptomatic\n",
    "pain_types={b'TA':0.0,b'ATA':1.0,b'NAP':2.0,b'ASY':3.0}\n",
    "converters[2] = lambda x : pain_types[x]\n",
    "\n",
    "# RestingECG: resting electrocardiogram results \n",
    "#  Normal: Normal, \n",
    "#  ST: having ST-T wave abnormality (T wave inversions and/or ST elevation or depression of > 0.05 mV),\n",
    "#  LVH: showing probable or definite left ventricular hypertrophy by Estes' criteria\n",
    "restingECG_types={b'Normal':0.0,b'ST':1.0,b'LVH':2.0}\n",
    "converters[6] = lambda x : restingECG_types[x]\n",
    "\n",
    "converters[8] =  lambda x : 1.0 if (x==b'Y') else 0.0\n",
    "\n",
    "stslope_type = {b'Up':1.0,b'Flat':0.0,b'Down':-1.0}\n",
    "converters[10] = lambda x : stslope_type[x]\n",
    "\n",
    "# Carguemos los datos\n",
    "data = np.genfromtxt(archivo_csv, delimiter=',',skip_header=1,converters=converters)\n",
    "\n",
    "# Necesitamos recodificar dos columnas y luego armar la matriz de datos a pedazos\n",
    "enc = OneHotEncoder()\n",
    "cp=enc.fit_transform(data[:,2].reshape(-1,1)).toarray() # chest pain \n",
    "re=enc.fit_transform(data[:,6].reshape(-1,1)).toarray() # resting ECG\n",
    "\n",
    "print(\"Datos completos en matriz {0} x {1}\".format(data.shape[0],data.shape[1]))"
   ]
  },
  {
   "cell_type": "code",
   "execution_count": null,
   "metadata": {
    "scrolled": true
   },
   "outputs": [],
   "source": [
    "# La última columna tiene las etiquetas\n",
    "y=data[:,11].ravel()\n",
    "print(\"Label shape:\",y.shape)\n",
    "\n",
    "# La columna col_grupos tiene los grupos\n",
    "X=np.column_stack((data[:,0:2],cp,data[:,3:6],re,data[:,7:11]))\n",
    "print(\"Data shape :\",X.shape)"
   ]
  },
  {
   "cell_type": "markdown",
   "metadata": {},
   "source": [
    "### Normalización de los datos"
   ]
  },
  {
   "cell_type": "code",
   "execution_count": null,
   "metadata": {},
   "outputs": [],
   "source": [
    "# Por hacer"
   ]
  },
  {
   "cell_type": "markdown",
   "metadata": {},
   "source": [
    "### Métodos de reducción de dimensiones:"
   ]
  },
  {
   "cell_type": "code",
   "execution_count": null,
   "metadata": {},
   "outputs": [],
   "source": [
    "# Por hacer"
   ]
  },
  {
   "cell_type": "markdown",
   "metadata": {},
   "source": [
    "###  Aglomeración"
   ]
  },
  {
   "cell_type": "code",
   "execution_count": null,
   "metadata": {
    "scrolled": false
   },
   "outputs": [],
   "source": [
    "# Por hacer"
   ]
  }
 ],
 "metadata": {
  "kernelspec": {
   "display_name": "Python 3 (ipykernel)",
   "language": "python",
   "name": "python3"
  },
  "language_info": {
   "codemirror_mode": {
    "name": "ipython",
    "version": 3
   },
   "file_extension": ".py",
   "mimetype": "text/x-python",
   "name": "python",
   "nbconvert_exporter": "python",
   "pygments_lexer": "ipython3",
   "version": "3.9.16"
  }
 },
 "nbformat": 4,
 "nbformat_minor": 4
}
